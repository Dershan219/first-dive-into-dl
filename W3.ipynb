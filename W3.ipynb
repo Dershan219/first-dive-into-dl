{
 "cells": [
  {
   "cell_type": "code",
   "execution_count": 33,
   "metadata": {},
   "outputs": [],
   "source": [
    "# build a network to classify Reuters newswires into 46 mutually exclusive topics\n",
    "from keras.datasets import reuters\n",
    "(train_data, train_labels), (test_data, test_labels) = reuters.load_data(num_words=10000)"
   ]
  },
  {
   "cell_type": "code",
   "execution_count": 2,
   "metadata": {},
   "outputs": [
    {
     "data": {
      "text/plain": [
       "array([   1, 3267,  699, 3434, 2295,   56,    2, 7511,    9,   56, 3906,\n",
       "       1073,   81,    5, 1198,   57,  366,  737,  132,   20, 4093,    7,\n",
       "          2,   49, 2295,    2, 1037, 3267,  699, 3434,    8,    7,   10,\n",
       "        241,   16,  855,  129,  231,  783,    5,    4,  587, 2295,    2,\n",
       "          2,  775,    7,   48,   34,  191,   44,   35, 1795,  505,   17,\n",
       "         12])"
      ]
     },
     "execution_count": 2,
     "metadata": {},
     "output_type": "execute_result"
    }
   ],
   "source": [
    "import numpy as np\n",
    "# variables\n",
    "np.transpose(train_data[1])"
   ]
  },
  {
   "cell_type": "code",
   "execution_count": 5,
   "metadata": {},
   "outputs": [
    {
     "data": {
      "text/plain": [
       "'? generale de banque sa lt ? br and lt heller overseas corp of chicago have each taken 50 pct stakes in ? company sa ? factors generale de banque said in a statement it gave no financial details of the transaction sa ? ? turnover in 1986 was 17 5 billion belgian francs reuter 3'"
      ]
     },
     "execution_count": 5,
     "metadata": {},
     "output_type": "execute_result"
    }
   ],
   "source": [
    "word_index = reuters.get_word_index()\n",
    "reverse_word_index = dict([(value, key) for (key, value) in word_index.items()])\n",
    "decoded_newswire = ' '.join([reverse_word_index.get(i-3, '?') for i in train_data[1]])\n",
    "decoded_newswire"
   ]
  },
  {
   "cell_type": "code",
   "execution_count": 16,
   "metadata": {},
   "outputs": [],
   "source": [
    "import numpy as np\n",
    "def vectorize_sequences(sequences, dimension=10000):\n",
    "    results = np.zeros((len(sequences), dimension))\n",
    "    for i, sequence in enumerate(sequences):\n",
    "        results[i, sequence] = 1\n",
    "    return results\n",
    "\n",
    "x_train = vectorize_sequences(train_data)\n",
    "x_test = vectorize_sequences(test_data)"
   ]
  },
  {
   "cell_type": "code",
   "execution_count": 18,
   "metadata": {},
   "outputs": [],
   "source": [
    "from keras.utils import to_categorical\n",
    "\n",
    "one_hot_train_labels = to_categorical(train_labels)\n",
    "one_hot_test_labels = to_categorical(test_labels)"
   ]
  },
  {
   "cell_type": "code",
   "execution_count": 19,
   "metadata": {},
   "outputs": [],
   "source": [
    "from keras import models\n",
    "from keras.layers import Dense\n",
    "\n",
    "model = models.Sequential()\n",
    "\n",
    "# to obtain enough features, we have to set number of units of\n",
    "# hidden layers larger than that of the final output\n",
    "model.add(Dense(64, activation = 'relu', input_shape=(10000,)))\n",
    "model.add(Dense(64, activation = 'relu'))\n",
    "# dimension of target is 46, so we need to have 46 unit outputs\n",
    "model.add(Dense(46, activation = 'softmax'))"
   ]
  },
  {
   "cell_type": "code",
   "execution_count": 20,
   "metadata": {},
   "outputs": [],
   "source": [
    "model.compile(optimizer='rmsprop',\n",
    "             loss='categorical_crossentropy',\n",
    "             metrics=['accuracy'])\n",
    "# without one hot encoding target variable, we should instead use\n",
    "# \"sparse_categorical_crossentropy\" as the loss function"
   ]
  },
  {
   "cell_type": "code",
   "execution_count": 21,
   "metadata": {},
   "outputs": [],
   "source": [
    "x_val = x_train[:1000]\n",
    "partial_x_train = x_train[1000:]\n",
    "y_val = one_hot_train_labels[:1000]\n",
    "partial_y_train = one_hot_train_labels[1000:]"
   ]
  },
  {
   "cell_type": "code",
   "execution_count": 22,
   "metadata": {},
   "outputs": [
    {
     "name": "stdout",
     "output_type": "stream",
     "text": [
      "Train on 7982 samples, validate on 1000 samples\n",
      "Epoch 1/20\n",
      "7982/7982 [==============================] - 2s 206us/step - loss: 2.5347 - accuracy: 0.5336 - val_loss: 1.6445 - val_accuracy: 0.6580\n",
      "Epoch 2/20\n",
      "7982/7982 [==============================] - 1s 153us/step - loss: 1.3578 - accuracy: 0.7220 - val_loss: 1.2558 - val_accuracy: 0.7310\n",
      "Epoch 3/20\n",
      "7982/7982 [==============================] - 1s 157us/step - loss: 1.0116 - accuracy: 0.7859 - val_loss: 1.1032 - val_accuracy: 0.7560\n",
      "Epoch 4/20\n",
      "7982/7982 [==============================] - 1s 162us/step - loss: 0.7966 - accuracy: 0.8302 - val_loss: 1.0201 - val_accuracy: 0.7810\n",
      "Epoch 5/20\n",
      "7982/7982 [==============================] - 1s 150us/step - loss: 0.6340 - accuracy: 0.8667 - val_loss: 0.9461 - val_accuracy: 0.8000\n",
      "Epoch 6/20\n",
      "7982/7982 [==============================] - 1s 152us/step - loss: 0.5043 - accuracy: 0.8941 - val_loss: 0.9089 - val_accuracy: 0.8050\n",
      "Epoch 7/20\n",
      "7982/7982 [==============================] - 1s 147us/step - loss: 0.4040 - accuracy: 0.9153 - val_loss: 0.8788 - val_accuracy: 0.8190\n",
      "Epoch 8/20\n",
      "7982/7982 [==============================] - 1s 145us/step - loss: 0.3268 - accuracy: 0.9315 - val_loss: 0.8958 - val_accuracy: 0.8190\n",
      "Epoch 9/20\n",
      "7982/7982 [==============================] - 1s 148us/step - loss: 0.2772 - accuracy: 0.9377 - val_loss: 0.9124 - val_accuracy: 0.8080\n",
      "Epoch 10/20\n",
      "7982/7982 [==============================] - 1s 147us/step - loss: 0.2348 - accuracy: 0.9442 - val_loss: 0.9248 - val_accuracy: 0.8130\n",
      "Epoch 11/20\n",
      "7982/7982 [==============================] - 1s 147us/step - loss: 0.2018 - accuracy: 0.9510 - val_loss: 0.8853 - val_accuracy: 0.8240\n",
      "Epoch 12/20\n",
      "7982/7982 [==============================] - 1s 162us/step - loss: 0.1765 - accuracy: 0.9524 - val_loss: 0.9324 - val_accuracy: 0.8190\n",
      "Epoch 13/20\n",
      "7982/7982 [==============================] - 1s 149us/step - loss: 0.1615 - accuracy: 0.9520 - val_loss: 0.9575 - val_accuracy: 0.8120\n",
      "Epoch 14/20\n",
      "7982/7982 [==============================] - 1s 148us/step - loss: 0.1460 - accuracy: 0.9558 - val_loss: 1.0090 - val_accuracy: 0.7950\n",
      "Epoch 15/20\n",
      "7982/7982 [==============================] - 1s 146us/step - loss: 0.1368 - accuracy: 0.9575 - val_loss: 0.9599 - val_accuracy: 0.8240\n",
      "Epoch 16/20\n",
      "7982/7982 [==============================] - 1s 146us/step - loss: 0.1286 - accuracy: 0.9568 - val_loss: 1.0133 - val_accuracy: 0.7970\n",
      "Epoch 17/20\n",
      "7982/7982 [==============================] - 1s 147us/step - loss: 0.1214 - accuracy: 0.9567 - val_loss: 0.9888 - val_accuracy: 0.8180\n",
      "Epoch 18/20\n",
      "7982/7982 [==============================] - 1s 148us/step - loss: 0.1184 - accuracy: 0.9572 - val_loss: 1.0215 - val_accuracy: 0.8120\n",
      "Epoch 19/20\n",
      "7982/7982 [==============================] - 1s 147us/step - loss: 0.1137 - accuracy: 0.9585 - val_loss: 1.0490 - val_accuracy: 0.8070\n",
      "Epoch 20/20\n",
      "7982/7982 [==============================] - 1s 147us/step - loss: 0.1091 - accuracy: 0.9589 - val_loss: 1.0610 - val_accuracy: 0.8080\n",
      "2246/2246 [==============================] - 0s 154us/step\n"
     ]
    }
   ],
   "source": [
    "history = model.fit(partial_x_train,\n",
    "                    partial_y_train,\n",
    "                    epochs=20,\n",
    "                    batch_size=512,\n",
    "                    validation_data=(x_val, y_val))\n",
    "\n",
    "results = model.evaluate(x_test, one_hot_test_labels)"
   ]
  },
  {
   "cell_type": "code",
   "execution_count": 27,
   "metadata": {},
   "outputs": [
    {
     "data": {
      "image/png": "[encoded data removed]",
      "text/plain": [
       "<Figure size 432x288 with 1 Axes>"
      ]
     },
     "metadata": {
      "needs_background": "light"
     },
     "output_type": "display_data"
    }
   ],
   "source": [
    "import matplotlib.pyplot as plt\n",
    "\n",
    "history_dict = history.history\n",
    "# plotting the training accuracy/validation accuracy of keras model\n",
    "acc = history_dict['accuracy']\n",
    "val_acc = history_dict['val_accuracy']\n",
    "\n",
    "epochs = range(1, len(history_dict['accuracy']) + 1)\n",
    "\n",
    "plt.plot(epochs, acc, color='r', label='Training Acc')\n",
    "plt.plot(epochs, val_acc, color='b', label='Validation Acc')\n",
    "plt.title('Training and Validation Acc')\n",
    "plt.xlabel('Epochs')\n",
    "plt.ylabel('Acc')\n",
    "plt.legend()\n",
    "plt.show()"
   ]
  },
  {
   "cell_type": "code",
   "execution_count": 28,
   "metadata": {},
   "outputs": [],
   "source": [
    "predictions = model.predict(x_test)"
   ]
  },
  {
   "cell_type": "code",
   "execution_count": 31,
   "metadata": {},
   "outputs": [
    {
     "data": {
      "text/plain": [
       "array([4.69726547e-05, 6.20465173e-08, 1.15410792e-10, 9.79564011e-01,\n",
       "       1.72592364e-02, 8.32036662e-09, 5.74079820e-07, 1.84188906e-07,\n",
       "       4.03556012e-04, 5.17266972e-06, 7.54773509e-07, 1.50173428e-05,\n",
       "       6.09577182e-06, 1.39325573e-06, 7.92573616e-08, 1.62515601e-09,\n",
       "       1.27971207e-05, 4.60961530e-07, 2.03650120e-06, 2.25115509e-04,\n",
       "       2.38398206e-03, 2.85429778e-05, 1.33489575e-09, 1.08014433e-07,\n",
       "       1.30073685e-08, 5.88923569e-07, 1.97129468e-09, 3.78880941e-07,\n",
       "       1.03952823e-06, 1.02372569e-05, 6.34378239e-06, 4.31356106e-09,\n",
       "       4.47734055e-06, 7.68870265e-08, 4.08897677e-06, 6.20974618e-07,\n",
       "       1.32597634e-05, 3.11182440e-08, 5.17970648e-07, 1.39404654e-06,\n",
       "       7.06631056e-08, 4.35166186e-07, 1.28628538e-10, 1.19496789e-07,\n",
       "       1.71120117e-13, 1.73121407e-07], dtype=float32)"
      ]
     },
     "execution_count": 31,
     "metadata": {},
     "output_type": "execute_result"
    }
   ],
   "source": [
    "predictions[0]"
   ]
  },
  {
   "cell_type": "code",
   "execution_count": 32,
   "metadata": {},
   "outputs": [
    {
     "data": {
      "text/plain": [
       "3"
      ]
     },
     "execution_count": 32,
     "metadata": {},
     "output_type": "execute_result"
    }
   ],
   "source": [
    "np.argmax(predictions[0])"
   ]
  }
 ],
 "metadata": {
  "kernelspec": {
   "display_name": "Python 3",
   "language": "python",
   "name": "python3"
  },
  "language_info": {
   "codemirror_mode": {
    "name": "ipython",
    "version": 3
   },
   "file_extension": ".py",
   "mimetype": "text/x-python",
   "name": "python",
   "nbconvert_exporter": "python",
   "pygments_lexer": "ipython3",
   "version": "3.7.7"
  }
 },
 "nbformat": 4,
 "nbformat_minor": 4
}
